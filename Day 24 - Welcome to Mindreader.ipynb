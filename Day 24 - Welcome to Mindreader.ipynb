{
 "cells": [
  {
   "cell_type": "markdown",
   "metadata": {},
   "source": [
    "# MINDREADER"
   ]
  },
  {
   "cell_type": "markdown",
   "metadata": {},
   "source": [
    "Mindreader is a game of binary rock paper scissors against a bot. You choose a number 1 or 0. the bot tries to guess your number using machine learning and the concept of probablity also comes into the picture. If its right the bot gets a bot and otherwise you get a point. the first to 50 points wins!"
   ]
  },
  {
   "cell_type": "code",
   "execution_count": 5,
   "metadata": {},
   "outputs": [
    {
     "data": {
      "application/vnd.jupyter.widget-view+json": {
       "model_id": "ec3cc989bc5249ec84ab71726fc417d1",
       "version_major": 2,
       "version_minor": 0
      },
      "text/plain": [
       "VBox(children=(HBox(children=(VBox(children=(IntProgress(value=0, bar_style='success', description='You', max=…"
      ]
     },
     "metadata": {},
     "output_type": "display_data"
    }
   ],
   "source": [
    "%run embed.ipynb"
   ]
  },
  {
   "cell_type": "code",
   "execution_count": null,
   "metadata": {},
   "outputs": [],
   "source": []
  }
 ],
 "metadata": {
  "kernelspec": {
   "display_name": "Python 3",
   "language": "python",
   "name": "python3"
  },
  "language_info": {
   "codemirror_mode": {
    "name": "ipython",
    "version": 3
   },
   "file_extension": ".py",
   "mimetype": "text/x-python",
   "name": "python",
   "nbconvert_exporter": "python",
   "pygments_lexer": "ipython3",
   "version": "3.8.5"
  },
  "widgets": {
   "application/vnd.jupyter.widget-state+json": {
    "state": {
     "004fa3a0b7b846afbc1a9364650933e5": {
      "model_module": "@jupyter-widgets/controls",
      "model_module_version": "1.5.0",
      "model_name": "ProgressStyleModel",
      "state": {
       "description_width": ""
      }
     },
     "00ada5349dce496c85f423f9a973cd55": {
      "model_module": "@jupyter-widgets/base",
      "model_module_version": "1.2.0",
      "model_name": "LayoutModel",
      "state": {}
     },
     "01e3301969a44c4aabd177ea66c5c650": {
      "model_module": "@jupyter-widgets/base",
      "model_module_version": "1.2.0",
      "model_name": "LayoutModel",
      "state": {}
     },
     "05ad9fa24e774dc3b3b9b6ce7a4dd705": {
      "model_module": "@jupyter-widgets/controls",
      "model_module_version": "1.5.0",
      "model_name": "ButtonStyleModel",
      "state": {}
     },
     "0778223f564f4086b8460e0dfa95d9da": {
      "model_module": "@jupyter-widgets/base",
      "model_module_version": "1.2.0",
      "model_name": "LayoutModel",
      "state": {}
     },
     "0798499d91f7411ca4302dabd09671d1": {
      "model_module": "@jupyter-widgets/base",
      "model_module_version": "1.2.0",
      "model_name": "LayoutModel",
      "state": {}
     },
     "08e882153d674acca8a8a23756fff788": {
      "model_module": "@jupyter-widgets/base",
      "model_module_version": "1.2.0",
      "model_name": "LayoutModel",
      "state": {}
     },
     "09d4441b7e534153a3eca163f0ea7152": {
      "model_module": "@jupyter-widgets/controls",
      "model_module_version": "1.5.0",
      "model_name": "ButtonStyleModel",
      "state": {}
     },
     "0ce47a97d7fe4f93b39deda827f9d805": {
      "model_module": "@jupyter-widgets/base",
      "model_module_version": "1.2.0",
      "model_name": "LayoutModel",
      "state": {}
     },
     "0f6265207ee1472393e734282d133afa": {
      "model_module": "@jupyter-widgets/base",
      "model_module_version": "1.2.0",
      "model_name": "LayoutModel",
      "state": {}
     },
     "0f7c82e583404eb08b3b2ea2373eb5a1": {
      "model_module": "@jupyter-widgets/base",
      "model_module_version": "1.2.0",
      "model_name": "LayoutModel",
      "state": {}
     },
     "1177929856ad4c25aa540a43bd6b37ee": {
      "model_module": "@jupyter-widgets/base",
      "model_module_version": "1.2.0",
      "model_name": "LayoutModel",
      "state": {}
     },
     "11e72e70b6354f69818c0b26f77306a8": {
      "model_module": "@jupyter-widgets/base",
      "model_module_version": "1.2.0",
      "model_name": "LayoutModel",
      "state": {}
     },
     "1353bfbb1e4c4c528139a8874be4534d": {
      "model_module": "@jupyter-widgets/controls",
      "model_module_version": "1.5.0",
      "model_name": "VBoxModel",
      "state": {
       "children": [
        "IPY_MODEL_453e8674fdda4318820790ed5b99b250",
        "IPY_MODEL_7485c494aeb046acad6f9792075c9cde"
       ],
       "layout": "IPY_MODEL_eaa3a57bb5e647b3a58fb9075c847e59"
      }
     },
     "171c812098a0417b9b6a967e64ac88c9": {
      "model_module": "@jupyter-widgets/controls",
      "model_module_version": "1.5.0",
      "model_name": "HTMLModel",
      "state": {
       "layout": "IPY_MODEL_00ada5349dce496c85f423f9a973cd55",
       "style": "IPY_MODEL_eb6c6e61dd6b4ffeabad7d10fab36ec2",
       "value": "<h1 style='color:green'> You Win!</h1>"
      }
     },
     "1b1b7ae4156b4e70b8087e6e8e4c2d3d": {
      "model_module": "@jupyter-widgets/controls",
      "model_module_version": "1.5.0",
      "model_name": "IntProgressModel",
      "state": {
       "bar_style": "danger",
       "description": "bot",
       "layout": "IPY_MODEL_0f6265207ee1472393e734282d133afa",
       "max": 50,
       "style": "IPY_MODEL_a1f2bc0c83e24e469c07b1350525c8a0"
      }
     },
     "1b920e0b9d404c23b672daf98b26cbb3": {
      "model_module": "@jupyter-widgets/controls",
      "model_module_version": "1.5.0",
      "model_name": "ButtonStyleModel",
      "state": {}
     },
     "1c04f1d553da41249b0734e8143cbe0a": {
      "model_module": "@jupyter-widgets/controls",
      "model_module_version": "1.5.0",
      "model_name": "VBoxModel",
      "state": {
       "children": [
        "IPY_MODEL_24fbf282a95e4f65baefdc78b98056ea",
        "IPY_MODEL_aa89bb38e7d04a4c9912e20fc308a2cd"
       ],
       "layout": "IPY_MODEL_e612458eebb94881912c3c8e8688d43e"
      }
     },
     "1ccf59c217434c95bf6e5c7a898a1f42": {
      "model_module": "@jupyter-widgets/controls",
      "model_module_version": "1.5.0",
      "model_name": "IntProgressModel",
      "state": {
       "bar_style": "success",
       "description": "You",
       "layout": "IPY_MODEL_f9c8c08cd7074f098373e32f7f3b25dd",
       "max": 50,
       "style": "IPY_MODEL_31d217f605e942bf8ae973ecaf48acdd"
      }
     },
     "1eebc3cc180141ccbf118acd9875f425": {
      "model_module": "@jupyter-widgets/controls",
      "model_module_version": "1.5.0",
      "model_name": "VBoxModel",
      "state": {
       "children": [
        "IPY_MODEL_bdea9dffe0094483881f63358ef1b99e",
        "IPY_MODEL_57d5f6f27c9e480081c7ef41ab9249c9"
       ],
       "layout": "IPY_MODEL_76732a9d4d6a4749988c0d85ce6d1bd9"
      }
     },
     "206aaad5f512461db3bb19ec3913f851": {
      "model_module": "@jupyter-widgets/controls",
      "model_module_version": "1.5.0",
      "model_name": "ButtonModel",
      "state": {
       "description": "0",
       "layout": "IPY_MODEL_66926ccf5fa84c408a793f7caa61a1aa",
       "style": "IPY_MODEL_d41d892cc5ec4530b7e291bb9877b414"
      }
     },
     "2086c543b77145089ea5b55f1f9bce86": {
      "model_module": "@jupyter-widgets/controls",
      "model_module_version": "1.5.0",
      "model_name": "ProgressStyleModel",
      "state": {
       "description_width": ""
      }
     },
     "20d3b5aec85442b7b30414ee7c904fc3": {
      "model_module": "@jupyter-widgets/base",
      "model_module_version": "1.2.0",
      "model_name": "LayoutModel",
      "state": {}
     },
     "20f3ca804e1f42e49fddc8eb9560702c": {
      "model_module": "@jupyter-widgets/controls",
      "model_module_version": "1.5.0",
      "model_name": "ButtonModel",
      "state": {
       "description": "0",
       "layout": "IPY_MODEL_cf3df3f7e7254adc8d3b2614e71cd36c",
       "style": "IPY_MODEL_1b920e0b9d404c23b672daf98b26cbb3"
      }
     },
     "21a49168fbd2478996d2a59806a6ee75": {
      "model_module": "@jupyter-widgets/base",
      "model_module_version": "1.2.0",
      "model_name": "LayoutModel",
      "state": {}
     },
     "2295805ae47243d2987f4a491f01f78e": {
      "model_module": "@jupyter-widgets/controls",
      "model_module_version": "1.5.0",
      "model_name": "IntProgressModel",
      "state": {
       "bar_style": "danger",
       "description": "bot",
       "layout": "IPY_MODEL_8294d3a4f70e4ac4ad5e05e942057dbe",
       "max": 50,
       "style": "IPY_MODEL_e5824f5bfba3460b814de2aa861ff49d"
      }
     },
     "231b64b46e0b4596ae5d6106fc626aed": {
      "model_module": "@jupyter-widgets/controls",
      "model_module_version": "1.5.0",
      "model_name": "ButtonModel",
      "state": {
       "description": "1",
       "layout": "IPY_MODEL_cafbabdf7cd64e75842ed03e04fcdbe7",
       "style": "IPY_MODEL_9bf185d5f9e64ee187d8e8c8bccb38d3"
      }
     },
     "2413d6c6d336415db48820726f0b5bd3": {
      "model_module": "@jupyter-widgets/controls",
      "model_module_version": "1.5.0",
      "model_name": "VBoxModel",
      "state": {
       "children": [
        "IPY_MODEL_33810e6393084059b905e928a9738662",
        "IPY_MODEL_ce37bcf182ca40988bc007d8649a6e03"
       ],
       "layout": "IPY_MODEL_75fa0efb30ca4c1abebb6b6106fd89fa"
      }
     },
     "249738c0cc004f0cab0ad260bd893ebc": {
      "model_module": "@jupyter-widgets/base",
      "model_module_version": "1.2.0",
      "model_name": "LayoutModel",
      "state": {}
     },
     "24fbf282a95e4f65baefdc78b98056ea": {
      "model_module": "@jupyter-widgets/controls",
      "model_module_version": "1.5.0",
      "model_name": "HBoxModel",
      "state": {
       "children": [
        "IPY_MODEL_9c0dec3907de4caeb5d0b0689cb36efb",
        "IPY_MODEL_171c812098a0417b9b6a967e64ac88c9"
       ],
       "layout": "IPY_MODEL_42e1006281234cb8ad746f058656a787"
      }
     },
     "2517cf22b8a1490e85e93ca6b70132e9": {
      "model_module": "@jupyter-widgets/controls",
      "model_module_version": "1.5.0",
      "model_name": "DescriptionStyleModel",
      "state": {
       "description_width": ""
      }
     },
     "28167124ffc544658c85c4b23185ecb4": {
      "model_module": "@jupyter-widgets/base",
      "model_module_version": "1.2.0",
      "model_name": "LayoutModel",
      "state": {}
     },
     "29a7949348b543f09078a659863e81b5": {
      "model_module": "@jupyter-widgets/controls",
      "model_module_version": "1.5.0",
      "model_name": "ButtonStyleModel",
      "state": {}
     },
     "29faa0ff53ff467f8efd1ff321ecc274": {
      "model_module": "@jupyter-widgets/controls",
      "model_module_version": "1.5.0",
      "model_name": "ButtonModel",
      "state": {
       "description": "0",
       "layout": "IPY_MODEL_21a49168fbd2478996d2a59806a6ee75",
       "style": "IPY_MODEL_2bae1ccb6df84ea6829cdfdb16b8b5d5"
      }
     },
     "2ba0bb3a8cb94aecb228633a4694a677": {
      "model_module": "@jupyter-widgets/controls",
      "model_module_version": "1.5.0",
      "model_name": "ProgressStyleModel",
      "state": {
       "description_width": ""
      }
     },
     "2bae1ccb6df84ea6829cdfdb16b8b5d5": {
      "model_module": "@jupyter-widgets/controls",
      "model_module_version": "1.5.0",
      "model_name": "ButtonStyleModel",
      "state": {}
     },
     "31b170dfb0ba4952a37e2cd44d28de4a": {
      "model_module": "@jupyter-widgets/base",
      "model_module_version": "1.2.0",
      "model_name": "LayoutModel",
      "state": {}
     },
     "31d217f605e942bf8ae973ecaf48acdd": {
      "model_module": "@jupyter-widgets/controls",
      "model_module_version": "1.5.0",
      "model_name": "ProgressStyleModel",
      "state": {
       "description_width": ""
      }
     },
     "338082119f724c6c8f846965dc89773f": {
      "model_module": "@jupyter-widgets/controls",
      "model_module_version": "1.5.0",
      "model_name": "HBoxModel",
      "state": {
       "children": [
        "IPY_MODEL_9cc4e0f65a19407696335d959a5846fd",
        "IPY_MODEL_9eec352adb9c4902bbceac181a32056c"
       ],
       "layout": "IPY_MODEL_e3363c1793fd4aa68d6393304d790dc7"
      }
     },
     "33810e6393084059b905e928a9738662": {
      "model_module": "@jupyter-widgets/controls",
      "model_module_version": "1.5.0",
      "model_name": "HBoxModel",
      "state": {
       "children": [
        "IPY_MODEL_76f1440a23d848dba170b8aca380efef",
        "IPY_MODEL_d5a7841f727f4215ba6b11a4644aff62"
       ],
       "layout": "IPY_MODEL_71476d4e09b84bc19e3cef02035f7b6b"
      }
     },
     "3583a3075d6d4e7b84a3078cfeae3e99": {
      "model_module": "@jupyter-widgets/base",
      "model_module_version": "1.2.0",
      "model_name": "LayoutModel",
      "state": {}
     },
     "35d59f99d2ff4e8db3275109fbf1ab9e": {
      "model_module": "@jupyter-widgets/base",
      "model_module_version": "1.2.0",
      "model_name": "LayoutModel",
      "state": {
       "visibility": "hidden"
      }
     },
     "35f9285616a04c7ab1246eafeb4e672b": {
      "model_module": "@jupyter-widgets/controls",
      "model_module_version": "1.5.0",
      "model_name": "VBoxModel",
      "state": {
       "children": [
        "IPY_MODEL_9d2c1927bab342ca85c990968ab53c91",
        "IPY_MODEL_ec36692b05564f51bd1cb010b751ee30"
       ],
       "layout": "IPY_MODEL_31b170dfb0ba4952a37e2cd44d28de4a"
      }
     },
     "36102f423308409aaccf1f71201f737c": {
      "model_module": "@jupyter-widgets/controls",
      "model_module_version": "1.5.0",
      "model_name": "ButtonModel",
      "state": {
       "description": "1",
       "layout": "IPY_MODEL_a9cd53ce58de4b0390a1348b4ecb6061",
       "style": "IPY_MODEL_09d4441b7e534153a3eca163f0ea7152"
      }
     },
     "37b9492b45284bf19d85db3a9a3e0681": {
      "model_module": "@jupyter-widgets/base",
      "model_module_version": "1.2.0",
      "model_name": "LayoutModel",
      "state": {}
     },
     "39ce7d3ad65a439fb5eb71c971e86444": {
      "model_module": "@jupyter-widgets/controls",
      "model_module_version": "1.5.0",
      "model_name": "VBoxModel",
      "state": {
       "children": [
        "IPY_MODEL_efe48f571ec347baafb6b5cf650ed8a0",
        "IPY_MODEL_9f833299d4054dd09d40418460d3f3b9"
       ],
       "layout": "IPY_MODEL_a2e424ae73024cd1baa525cef37821c4"
      }
     },
     "3a74038ef3af410d9839d9f95a192fa5": {
      "model_module": "@jupyter-widgets/controls",
      "model_module_version": "1.5.0",
      "model_name": "ButtonModel",
      "state": {
       "description": "0",
       "layout": "IPY_MODEL_96fecce20dd443a6a4f276bf777668c6",
       "style": "IPY_MODEL_a50e9f2f96664442b99e1a05144ef944"
      }
     },
     "3b923d3e8003487f963d4660bf9c3b29": {
      "model_module": "@jupyter-widgets/controls",
      "model_module_version": "1.5.0",
      "model_name": "ButtonModel",
      "state": {
       "description": "1",
       "layout": "IPY_MODEL_7087d29800564c378d1db3f4b651976e",
       "style": "IPY_MODEL_a5799b2811074be9b967dd4ef5828081"
      }
     },
     "3e0ed6a9614447ac92401cc1ff7b1ef6": {
      "model_module": "@jupyter-widgets/base",
      "model_module_version": "1.2.0",
      "model_name": "LayoutModel",
      "state": {}
     },
     "3e559a37fe064f1f822b5e17d9a98994": {
      "model_module": "@jupyter-widgets/controls",
      "model_module_version": "1.5.0",
      "model_name": "HBoxModel",
      "state": {
       "children": [
        "IPY_MODEL_29faa0ff53ff467f8efd1ff321ecc274",
        "IPY_MODEL_36102f423308409aaccf1f71201f737c"
       ],
       "layout": "IPY_MODEL_8134a01be46f486288e2fdeef1c40229"
      }
     },
     "3eaa5ff511624133b0c97eda19eb156a": {
      "model_module": "@jupyter-widgets/controls",
      "model_module_version": "1.5.0",
      "model_name": "HTMLModel",
      "state": {
       "layout": "IPY_MODEL_35d59f99d2ff4e8db3275109fbf1ab9e",
       "style": "IPY_MODEL_7eff1168806c4707b8c956a6d5f5c56d",
       "value": "<h1 style='color:green'> You Win!</h1>"
      }
     },
     "3fb645118cf8437997a32a1ed066dbdf": {
      "model_module": "@jupyter-widgets/controls",
      "model_module_version": "1.5.0",
      "model_name": "ProgressStyleModel",
      "state": {
       "description_width": ""
      }
     },
     "42e1006281234cb8ad746f058656a787": {
      "model_module": "@jupyter-widgets/base",
      "model_module_version": "1.2.0",
      "model_name": "LayoutModel",
      "state": {}
     },
     "44ff0ee97b3a4444bfdc7582a7647a90": {
      "model_module": "@jupyter-widgets/controls",
      "model_module_version": "1.5.0",
      "model_name": "ButtonStyleModel",
      "state": {}
     },
     "453e8674fdda4318820790ed5b99b250": {
      "model_module": "@jupyter-widgets/controls",
      "model_module_version": "1.5.0",
      "model_name": "HBoxModel",
      "state": {
       "children": [
        "IPY_MODEL_d71fca767d9c45338c74b320c733ba6b",
        "IPY_MODEL_e6480669fd82433688f89f80a4817266"
       ],
       "layout": "IPY_MODEL_c7632cb6740d47de95ddf6b174e319f6"
      }
     },
     "45799de43e984f98b87ea4e99cde7512": {
      "model_module": "@jupyter-widgets/controls",
      "model_module_version": "1.5.0",
      "model_name": "DescriptionStyleModel",
      "state": {
       "description_width": ""
      }
     },
     "48248dbe71af4fa588ca4e3a017e62ff": {
      "model_module": "@jupyter-widgets/base",
      "model_module_version": "1.2.0",
      "model_name": "LayoutModel",
      "state": {}
     },
     "4ace0cf849204f7f8f531574939c66f1": {
      "model_module": "@jupyter-widgets/base",
      "model_module_version": "1.2.0",
      "model_name": "LayoutModel",
      "state": {}
     },
     "4c4988e1f8064494b806f659621624c3": {
      "model_module": "@jupyter-widgets/controls",
      "model_module_version": "1.5.0",
      "model_name": "IntProgressModel",
      "state": {
       "bar_style": "success",
       "description": "You",
       "layout": "IPY_MODEL_eb1978c74cea411ab4e952ac569cd7bf",
       "max": 50,
       "style": "IPY_MODEL_2086c543b77145089ea5b55f1f9bce86"
      }
     },
     "4caa31d227be4095b903365bd82549d6": {
      "model_module": "@jupyter-widgets/controls",
      "model_module_version": "1.5.0",
      "model_name": "ButtonModel",
      "state": {
       "description": "1",
       "layout": "IPY_MODEL_d6c3533f941040a29f7e0b6b40ef2d6e",
       "style": "IPY_MODEL_61dcbccd0ad14e90935c8b45b7d8c204"
      }
     },
     "4ec9c00a9ccd46179b57af5b5a0d59c1": {
      "model_module": "@jupyter-widgets/base",
      "model_module_version": "1.2.0",
      "model_name": "LayoutModel",
      "state": {}
     },
     "4f3d758a27ea4113a5317ae0c0e590c7": {
      "model_module": "@jupyter-widgets/controls",
      "model_module_version": "1.5.0",
      "model_name": "HTMLModel",
      "state": {
       "layout": "IPY_MODEL_9bbf7ecc40384025a1f161c5bcc5941c",
       "style": "IPY_MODEL_2517cf22b8a1490e85e93ca6b70132e9",
       "value": "<h1 style='color:green'> You Win!</h1>"
      }
     },
     "4fd5031e48f34d69a463ef0867b5b370": {
      "model_module": "@jupyter-widgets/controls",
      "model_module_version": "1.5.0",
      "model_name": "ProgressStyleModel",
      "state": {
       "description_width": ""
      }
     },
     "5050bb46f43c4d44ae1354ce34102847": {
      "model_module": "@jupyter-widgets/base",
      "model_module_version": "1.2.0",
      "model_name": "LayoutModel",
      "state": {}
     },
     "50ba7fd1b2524afabe1cc2887ba58b55": {
      "model_module": "@jupyter-widgets/controls",
      "model_module_version": "1.5.0",
      "model_name": "ButtonStyleModel",
      "state": {}
     },
     "524c970a6dbe43d4b79746c74524b3d3": {
      "model_module": "@jupyter-widgets/controls",
      "model_module_version": "1.5.0",
      "model_name": "VBoxModel",
      "state": {
       "children": [
        "IPY_MODEL_1ccf59c217434c95bf6e5c7a898a1f42",
        "IPY_MODEL_2295805ae47243d2987f4a491f01f78e"
       ],
       "layout": "IPY_MODEL_0f7c82e583404eb08b3b2ea2373eb5a1"
      }
     },
     "569b9a2e8cc94a109129456f75b76987": {
      "model_module": "@jupyter-widgets/base",
      "model_module_version": "1.2.0",
      "model_name": "LayoutModel",
      "state": {}
     },
     "57c6a2cc9f32492eb2c6d87ef101c601": {
      "model_module": "@jupyter-widgets/base",
      "model_module_version": "1.2.0",
      "model_name": "LayoutModel",
      "state": {}
     },
     "57d5f6f27c9e480081c7ef41ab9249c9": {
      "model_module": "@jupyter-widgets/controls",
      "model_module_version": "1.5.0",
      "model_name": "HBoxModel",
      "state": {
       "children": [
        "IPY_MODEL_a3bed691d1be41c49dd23ea57865290d",
        "IPY_MODEL_b14ab65fdb9d406bbcdd0d4d3cbeb5ae"
       ],
       "layout": "IPY_MODEL_de41678bac5e4b8c8425584cb15b0d6f"
      }
     },
     "5844d84c17284c9bb675a76f8823539e": {
      "model_module": "@jupyter-widgets/base",
      "model_module_version": "1.2.0",
      "model_name": "LayoutModel",
      "state": {}
     },
     "59028c5763bf4a46a80a138a48f9a852": {
      "model_module": "@jupyter-widgets/base",
      "model_module_version": "1.2.0",
      "model_name": "LayoutModel",
      "state": {}
     },
     "5b42dbc0097d40dc81d32b8b381f79e2": {
      "model_module": "@jupyter-widgets/controls",
      "model_module_version": "1.5.0",
      "model_name": "ButtonStyleModel",
      "state": {}
     },
     "5bf1e264d0a54f80895c1f808ce56f1c": {
      "model_module": "@jupyter-widgets/base",
      "model_module_version": "1.2.0",
      "model_name": "LayoutModel",
      "state": {}
     },
     "6110317698b84f9d9260184c6bbfe141": {
      "model_module": "@jupyter-widgets/controls",
      "model_module_version": "1.5.0",
      "model_name": "VBoxModel",
      "state": {
       "children": [
        "IPY_MODEL_c97bc17729d54be5832fa09988743c02",
        "IPY_MODEL_baa928d16e2c4fce90eb70fddc6dada8"
       ],
       "layout": "IPY_MODEL_cec2a3c845134d07a0c15bd11b1be599"
      }
     },
     "61dcbccd0ad14e90935c8b45b7d8c204": {
      "model_module": "@jupyter-widgets/controls",
      "model_module_version": "1.5.0",
      "model_name": "ButtonStyleModel",
      "state": {}
     },
     "64c35ea6ba884a96b2479816ce73b70f": {
      "model_module": "@jupyter-widgets/controls",
      "model_module_version": "1.5.0",
      "model_name": "ButtonModel",
      "state": {
       "description": "0",
       "layout": "IPY_MODEL_01e3301969a44c4aabd177ea66c5c650",
       "style": "IPY_MODEL_7d9f959115b64b5494c42299f382fa21"
      }
     },
     "6550573acc5c48129453bf75266490f3": {
      "model_module": "@jupyter-widgets/controls",
      "model_module_version": "1.5.0",
      "model_name": "HBoxModel",
      "state": {
       "children": [
        "IPY_MODEL_c528024861464dc8b31924fb43ff8ee0",
        "IPY_MODEL_b794ad55a2484cae947e5761d8f4b0e2"
       ],
       "layout": "IPY_MODEL_d54989595f374fa7a4cafd0f911dc1f9"
      }
     },
     "66926ccf5fa84c408a793f7caa61a1aa": {
      "model_module": "@jupyter-widgets/base",
      "model_module_version": "1.2.0",
      "model_name": "LayoutModel",
      "state": {}
     },
     "6ab79dad89f54b5f8478b9ef129fd766": {
      "model_module": "@jupyter-widgets/controls",
      "model_module_version": "1.5.0",
      "model_name": "IntProgressModel",
      "state": {
       "bar_style": "danger",
       "description": "bot",
       "layout": "IPY_MODEL_0ce47a97d7fe4f93b39deda827f9d805",
       "max": 50,
       "style": "IPY_MODEL_2ba0bb3a8cb94aecb228633a4694a677"
      }
     },
     "6f0b7244dd384a2d9170d8636c0e11b6": {
      "model_module": "@jupyter-widgets/base",
      "model_module_version": "1.2.0",
      "model_name": "LayoutModel",
      "state": {}
     },
     "6f4ff8230fe541e79a8f111959777f48": {
      "model_module": "@jupyter-widgets/controls",
      "model_module_version": "1.5.0",
      "model_name": "IntProgressModel",
      "state": {
       "bar_style": "danger",
       "description": "bot",
       "layout": "IPY_MODEL_dbb35e873913458493e7e22dc3ede81d",
       "max": 50,
       "style": "IPY_MODEL_3fb645118cf8437997a32a1ed066dbdf"
      }
     },
     "7087d29800564c378d1db3f4b651976e": {
      "model_module": "@jupyter-widgets/base",
      "model_module_version": "1.2.0",
      "model_name": "LayoutModel",
      "state": {}
     },
     "71476d4e09b84bc19e3cef02035f7b6b": {
      "model_module": "@jupyter-widgets/base",
      "model_module_version": "1.2.0",
      "model_name": "LayoutModel",
      "state": {}
     },
     "733b01a6f63a432cb0221dc20cae408f": {
      "model_module": "@jupyter-widgets/base",
      "model_module_version": "1.2.0",
      "model_name": "LayoutModel",
      "state": {}
     },
     "73f89de049b04612a28912e2b27d4e7b": {
      "model_module": "@jupyter-widgets/base",
      "model_module_version": "1.2.0",
      "model_name": "LayoutModel",
      "state": {}
     },
     "7485c494aeb046acad6f9792075c9cde": {
      "model_module": "@jupyter-widgets/controls",
      "model_module_version": "1.5.0",
      "model_name": "HBoxModel",
      "state": {
       "children": [
        "IPY_MODEL_206aaad5f512461db3bb19ec3913f851",
        "IPY_MODEL_d73400da8fff4b99b25e6b2ed427feff"
       ],
       "layout": "IPY_MODEL_f26caa9625ff4a2990c081af98e0657b"
      }
     },
     "74e59c6dbd8c401290666e2ffb1a45e6": {
      "model_module": "@jupyter-widgets/controls",
      "model_module_version": "1.5.0",
      "model_name": "ProgressStyleModel",
      "state": {
       "description_width": ""
      }
     },
     "759a9c95db27488383761bec29145705": {
      "model_module": "@jupyter-widgets/controls",
      "model_module_version": "1.5.0",
      "model_name": "ProgressStyleModel",
      "state": {
       "description_width": ""
      }
     },
     "75fa0efb30ca4c1abebb6b6106fd89fa": {
      "model_module": "@jupyter-widgets/base",
      "model_module_version": "1.2.0",
      "model_name": "LayoutModel",
      "state": {}
     },
     "76732a9d4d6a4749988c0d85ce6d1bd9": {
      "model_module": "@jupyter-widgets/base",
      "model_module_version": "1.2.0",
      "model_name": "LayoutModel",
      "state": {}
     },
     "76f1440a23d848dba170b8aca380efef": {
      "model_module": "@jupyter-widgets/controls",
      "model_module_version": "1.5.0",
      "model_name": "VBoxModel",
      "state": {
       "children": [
        "IPY_MODEL_dddf40fbe3314e65ad61ac2244e2a793",
        "IPY_MODEL_6f4ff8230fe541e79a8f111959777f48"
       ],
       "layout": "IPY_MODEL_37b9492b45284bf19d85db3a9a3e0681"
      }
     },
     "7aecb12786d742719661aedd2a336926": {
      "model_module": "@jupyter-widgets/controls",
      "model_module_version": "1.5.0",
      "model_name": "DescriptionStyleModel",
      "state": {
       "description_width": ""
      }
     },
     "7c2e590c3387429da079f5292cd2e92f": {
      "model_module": "@jupyter-widgets/controls",
      "model_module_version": "1.5.0",
      "model_name": "HTMLModel",
      "state": {
       "layout": "IPY_MODEL_4ec9c00a9ccd46179b57af5b5a0d59c1",
       "style": "IPY_MODEL_beaebabb2fcf4663b7cc70005c4ed3d6",
       "value": "<h1 style='color:green'> You Win!</h1>"
      }
     },
     "7d8930cbe75a470684b3a3e9b58bf5a0": {
      "model_module": "@jupyter-widgets/base",
      "model_module_version": "1.2.0",
      "model_name": "LayoutModel",
      "state": {}
     },
     "7d9f959115b64b5494c42299f382fa21": {
      "model_module": "@jupyter-widgets/controls",
      "model_module_version": "1.5.0",
      "model_name": "ButtonStyleModel",
      "state": {}
     },
     "7e81f59cf89548f99e065d980dc1cf21": {
      "model_module": "@jupyter-widgets/controls",
      "model_module_version": "1.5.0",
      "model_name": "DescriptionStyleModel",
      "state": {
       "description_width": ""
      }
     },
     "7eff1168806c4707b8c956a6d5f5c56d": {
      "model_module": "@jupyter-widgets/controls",
      "model_module_version": "1.5.0",
      "model_name": "DescriptionStyleModel",
      "state": {
       "description_width": ""
      }
     },
     "7fde1b87ab1141bca4d946ae69076b4c": {
      "model_module": "@jupyter-widgets/base",
      "model_module_version": "1.2.0",
      "model_name": "LayoutModel",
      "state": {}
     },
     "80142d3caba144008b422d9868927fcf": {
      "model_module": "@jupyter-widgets/base",
      "model_module_version": "1.2.0",
      "model_name": "LayoutModel",
      "state": {}
     },
     "804d285b8a1f438c9277b921b1447d39": {
      "model_module": "@jupyter-widgets/base",
      "model_module_version": "1.2.0",
      "model_name": "LayoutModel",
      "state": {}
     },
     "8134a01be46f486288e2fdeef1c40229": {
      "model_module": "@jupyter-widgets/base",
      "model_module_version": "1.2.0",
      "model_name": "LayoutModel",
      "state": {}
     },
     "81a946d8a0034bca9c7ba7a4449371dd": {
      "model_module": "@jupyter-widgets/base",
      "model_module_version": "1.2.0",
      "model_name": "LayoutModel",
      "state": {}
     },
     "8294d3a4f70e4ac4ad5e05e942057dbe": {
      "model_module": "@jupyter-widgets/base",
      "model_module_version": "1.2.0",
      "model_name": "LayoutModel",
      "state": {}
     },
     "82f061dad7d14820b631d3727befaeb6": {
      "model_module": "@jupyter-widgets/base",
      "model_module_version": "1.2.0",
      "model_name": "LayoutModel",
      "state": {}
     },
     "8831e4a270d749fe9ae3a6bc08d1aa1b": {
      "model_module": "@jupyter-widgets/controls",
      "model_module_version": "1.5.0",
      "model_name": "VBoxModel",
      "state": {
       "children": [
        "IPY_MODEL_bbea707507cb49f0a60088a21eb807fb",
        "IPY_MODEL_338082119f724c6c8f846965dc89773f"
       ],
       "layout": "IPY_MODEL_20d3b5aec85442b7b30414ee7c904fc3"
      }
     },
     "8e10c43ea30640afbc896b9251500beb": {
      "model_module": "@jupyter-widgets/controls",
      "model_module_version": "1.5.0",
      "model_name": "HTMLModel",
      "state": {
       "layout": "IPY_MODEL_0798499d91f7411ca4302dabd09671d1",
       "style": "IPY_MODEL_7aecb12786d742719661aedd2a336926",
       "value": "<h1 style='color:green'> You Win!</h1>"
      }
     },
     "8e141e45d7884268a8a33e34eb501bb7": {
      "model_module": "@jupyter-widgets/base",
      "model_module_version": "1.2.0",
      "model_name": "LayoutModel",
      "state": {}
     },
     "8e2356754592466aa9ae7a6fd694aa4c": {
      "model_module": "@jupyter-widgets/controls",
      "model_module_version": "1.5.0",
      "model_name": "HBoxModel",
      "state": {
       "children": [
        "IPY_MODEL_dd0499f4b11548d6b4a4cee9c374a148",
        "IPY_MODEL_adf5debdedb8436da7af73187b0021b8"
       ],
       "layout": "IPY_MODEL_7d8930cbe75a470684b3a3e9b58bf5a0"
      }
     },
     "908ef44253074514b79f9143c8e7a34f": {
      "model_module": "@jupyter-widgets/controls",
      "model_module_version": "1.5.0",
      "model_name": "ButtonStyleModel",
      "state": {}
     },
     "90a92720fc324963963a226393f7c3b9": {
      "model_module": "@jupyter-widgets/base",
      "model_module_version": "1.2.0",
      "model_name": "LayoutModel",
      "state": {}
     },
     "91fe353603e04859b73a19c96e9bc628": {
      "model_module": "@jupyter-widgets/controls",
      "model_module_version": "1.5.0",
      "model_name": "ProgressStyleModel",
      "state": {
       "description_width": ""
      }
     },
     "92e0e71b10c8472b9b5477a625ab9011": {
      "model_module": "@jupyter-widgets/controls",
      "model_module_version": "1.5.0",
      "model_name": "IntProgressModel",
      "state": {
       "bar_style": "success",
       "description": "You",
       "layout": "IPY_MODEL_733b01a6f63a432cb0221dc20cae408f",
       "max": 50,
       "style": "IPY_MODEL_f81a94ae4e514851941b4022e7826f99"
      }
     },
     "95a2b5804e1f44289c6c7929621709b7": {
      "model_module": "@jupyter-widgets/controls",
      "model_module_version": "1.5.0",
      "model_name": "ButtonModel",
      "state": {
       "description": "0",
       "layout": "IPY_MODEL_99736825197e443fbae0cabf95b0d3ad",
       "style": "IPY_MODEL_9f2851b1264648b4b1298cefc2186993"
      }
     },
     "96fecce20dd443a6a4f276bf777668c6": {
      "model_module": "@jupyter-widgets/base",
      "model_module_version": "1.2.0",
      "model_name": "LayoutModel",
      "state": {}
     },
     "98a9aac18e3c4741b11f185d8c497a47": {
      "model_module": "@jupyter-widgets/base",
      "model_module_version": "1.2.0",
      "model_name": "LayoutModel",
      "state": {}
     },
     "99736825197e443fbae0cabf95b0d3ad": {
      "model_module": "@jupyter-widgets/base",
      "model_module_version": "1.2.0",
      "model_name": "LayoutModel",
      "state": {}
     },
     "9bbf7ecc40384025a1f161c5bcc5941c": {
      "model_module": "@jupyter-widgets/base",
      "model_module_version": "1.2.0",
      "model_name": "LayoutModel",
      "state": {}
     },
     "9bf185d5f9e64ee187d8e8c8bccb38d3": {
      "model_module": "@jupyter-widgets/controls",
      "model_module_version": "1.5.0",
      "model_name": "ButtonStyleModel",
      "state": {}
     },
     "9c0dec3907de4caeb5d0b0689cb36efb": {
      "model_module": "@jupyter-widgets/controls",
      "model_module_version": "1.5.0",
      "model_name": "VBoxModel",
      "state": {
       "children": [
        "IPY_MODEL_c1cd8566923d40a9ab3d1b6572bac07c",
        "IPY_MODEL_d8028f6593934c33a4f00f1728faab65"
       ],
       "layout": "IPY_MODEL_98a9aac18e3c4741b11f185d8c497a47"
      }
     },
     "9c533a81c3754771b51be4ec055df61c": {
      "model_module": "@jupyter-widgets/base",
      "model_module_version": "1.2.0",
      "model_name": "LayoutModel",
      "state": {}
     },
     "9cc4e0f65a19407696335d959a5846fd": {
      "model_module": "@jupyter-widgets/controls",
      "model_module_version": "1.5.0",
      "model_name": "ButtonModel",
      "state": {
       "description": "0",
       "layout": "IPY_MODEL_e98bb7ccf23b45c1894c18b1f75905e3",
       "style": "IPY_MODEL_44ff0ee97b3a4444bfdc7582a7647a90"
      }
     },
     "9d2c1927bab342ca85c990968ab53c91": {
      "model_module": "@jupyter-widgets/controls",
      "model_module_version": "1.5.0",
      "model_name": "IntProgressModel",
      "state": {
       "bar_style": "success",
       "description": "You",
       "layout": "IPY_MODEL_82f061dad7d14820b631d3727befaeb6",
       "max": 50,
       "style": "IPY_MODEL_ff013430177c4bdca886ab6ce145e10d"
      }
     },
     "9eec352adb9c4902bbceac181a32056c": {
      "model_module": "@jupyter-widgets/controls",
      "model_module_version": "1.5.0",
      "model_name": "ButtonModel",
      "state": {
       "description": "1",
       "layout": "IPY_MODEL_569b9a2e8cc94a109129456f75b76987",
       "style": "IPY_MODEL_50ba7fd1b2524afabe1cc2887ba58b55"
      }
     },
     "9f2851b1264648b4b1298cefc2186993": {
      "model_module": "@jupyter-widgets/controls",
      "model_module_version": "1.5.0",
      "model_name": "ButtonStyleModel",
      "state": {}
     },
     "9f833299d4054dd09d40418460d3f3b9": {
      "model_module": "@jupyter-widgets/controls",
      "model_module_version": "1.5.0",
      "model_name": "IntProgressModel",
      "state": {
       "bar_style": "danger",
       "description": "bot",
       "layout": "IPY_MODEL_d81ca066b908438b8fd027751b688251",
       "max": 50,
       "style": "IPY_MODEL_e2951444b6754e949746f1a5f18840be"
      }
     },
     "a1d1a2345d5844598b954aa589ede31f": {
      "model_module": "@jupyter-widgets/base",
      "model_module_version": "1.2.0",
      "model_name": "LayoutModel",
      "state": {}
     },
     "a1f2bc0c83e24e469c07b1350525c8a0": {
      "model_module": "@jupyter-widgets/controls",
      "model_module_version": "1.5.0",
      "model_name": "ProgressStyleModel",
      "state": {
       "description_width": ""
      }
     },
     "a1fd924183674702966de47318902c75": {
      "model_module": "@jupyter-widgets/controls",
      "model_module_version": "1.5.0",
      "model_name": "HBoxModel",
      "state": {
       "children": [
        "IPY_MODEL_39ce7d3ad65a439fb5eb71c971e86444",
        "IPY_MODEL_3eaa5ff511624133b0c97eda19eb156a"
       ],
       "layout": "IPY_MODEL_1177929856ad4c25aa540a43bd6b37ee"
      }
     },
     "a27976afbe284a9d80c08ef2ccf72132": {
      "model_module": "@jupyter-widgets/base",
      "model_module_version": "1.2.0",
      "model_name": "LayoutModel",
      "state": {}
     },
     "a2e424ae73024cd1baa525cef37821c4": {
      "model_module": "@jupyter-widgets/base",
      "model_module_version": "1.2.0",
      "model_name": "LayoutModel",
      "state": {}
     },
     "a3bc994341984cc2b13561d73323b333": {
      "model_module": "@jupyter-widgets/base",
      "model_module_version": "1.2.0",
      "model_name": "LayoutModel",
      "state": {}
     },
     "a3bed691d1be41c49dd23ea57865290d": {
      "model_module": "@jupyter-widgets/controls",
      "model_module_version": "1.5.0",
      "model_name": "ButtonModel",
      "state": {
       "description": "0",
       "layout": "IPY_MODEL_5bf1e264d0a54f80895c1f808ce56f1c",
       "style": "IPY_MODEL_bba94ebfd14d4826bc96ca33d1788959"
      }
     },
     "a50e9f2f96664442b99e1a05144ef944": {
      "model_module": "@jupyter-widgets/controls",
      "model_module_version": "1.5.0",
      "model_name": "ButtonStyleModel",
      "state": {}
     },
     "a5799b2811074be9b967dd4ef5828081": {
      "model_module": "@jupyter-widgets/controls",
      "model_module_version": "1.5.0",
      "model_name": "ButtonStyleModel",
      "state": {}
     },
     "a7ee9444f7f7469582fba59dad709559": {
      "model_module": "@jupyter-widgets/controls",
      "model_module_version": "1.5.0",
      "model_name": "DescriptionStyleModel",
      "state": {
       "description_width": ""
      }
     },
     "a9cd53ce58de4b0390a1348b4ecb6061": {
      "model_module": "@jupyter-widgets/base",
      "model_module_version": "1.2.0",
      "model_name": "LayoutModel",
      "state": {}
     },
     "aa89bb38e7d04a4c9912e20fc308a2cd": {
      "model_module": "@jupyter-widgets/controls",
      "model_module_version": "1.5.0",
      "model_name": "HBoxModel",
      "state": {
       "children": [
        "IPY_MODEL_3a74038ef3af410d9839d9f95a192fa5",
        "IPY_MODEL_3b923d3e8003487f963d4660bf9c3b29"
       ],
       "layout": "IPY_MODEL_249738c0cc004f0cab0ad260bd893ebc"
      }
     },
     "ac4906ed99c545d3a1f66fe447621923": {
      "model_module": "@jupyter-widgets/base",
      "model_module_version": "1.2.0",
      "model_name": "LayoutModel",
      "state": {}
     },
     "adf5debdedb8436da7af73187b0021b8": {
      "model_module": "@jupyter-widgets/controls",
      "model_module_version": "1.5.0",
      "model_name": "ButtonModel",
      "state": {
       "description": "1",
       "layout": "IPY_MODEL_ed70496e3e2b427880cec00036206414",
       "style": "IPY_MODEL_29a7949348b543f09078a659863e81b5"
      }
     },
     "b14ab65fdb9d406bbcdd0d4d3cbeb5ae": {
      "model_module": "@jupyter-widgets/controls",
      "model_module_version": "1.5.0",
      "model_name": "ButtonModel",
      "state": {
       "description": "1",
       "layout": "IPY_MODEL_11e72e70b6354f69818c0b26f77306a8",
       "style": "IPY_MODEL_bdf584b3a02341cfa56ca9913c1e9e9d"
      }
     },
     "b243df1c97e04145bdecd0ff678e9a9c": {
      "model_module": "@jupyter-widgets/controls",
      "model_module_version": "1.5.0",
      "model_name": "ButtonModel",
      "state": {
       "description": "1",
       "layout": "IPY_MODEL_5844d84c17284c9bb675a76f8823539e",
       "style": "IPY_MODEL_05ad9fa24e774dc3b3b9b6ce7a4dd705"
      }
     },
     "b33e865369ac420ea54d304860a47ef1": {
      "model_module": "@jupyter-widgets/base",
      "model_module_version": "1.2.0",
      "model_name": "LayoutModel",
      "state": {}
     },
     "b42ee81b7e4b44ca8003409fc0a28aeb": {
      "model_module": "@jupyter-widgets/controls",
      "model_module_version": "1.5.0",
      "model_name": "DescriptionStyleModel",
      "state": {
       "description_width": ""
      }
     },
     "b61c234c904c40178ff2132a01783a6a": {
      "model_module": "@jupyter-widgets/controls",
      "model_module_version": "1.5.0",
      "model_name": "ProgressStyleModel",
      "state": {
       "description_width": ""
      }
     },
     "b699daf2e1574fa1ba35891aab92b4ad": {
      "model_module": "@jupyter-widgets/base",
      "model_module_version": "1.2.0",
      "model_name": "LayoutModel",
      "state": {}
     },
     "b6c2446bd7a442de91b1411388522ac1": {
      "model_module": "@jupyter-widgets/controls",
      "model_module_version": "1.5.0",
      "model_name": "IntProgressModel",
      "state": {
       "bar_style": "danger",
       "description": "bot",
       "layout": "IPY_MODEL_28167124ffc544658c85c4b23185ecb4",
       "max": 50,
       "style": "IPY_MODEL_f5a65d1b19054d4c8200f86d745f6a6b"
      }
     },
     "b794ad55a2484cae947e5761d8f4b0e2": {
      "model_module": "@jupyter-widgets/controls",
      "model_module_version": "1.5.0",
      "model_name": "HTMLModel",
      "state": {
       "layout": "IPY_MODEL_81a946d8a0034bca9c7ba7a4449371dd",
       "style": "IPY_MODEL_7e81f59cf89548f99e065d980dc1cf21",
       "value": "<h1 style='color:green'> You Win!</h1>"
      }
     },
     "baa928d16e2c4fce90eb70fddc6dada8": {
      "model_module": "@jupyter-widgets/controls",
      "model_module_version": "1.5.0",
      "model_name": "HBoxModel",
      "state": {
       "children": [
        "IPY_MODEL_95a2b5804e1f44289c6c7929621709b7",
        "IPY_MODEL_231b64b46e0b4596ae5d6106fc626aed"
       ],
       "layout": "IPY_MODEL_90a92720fc324963963a226393f7c3b9"
      }
     },
     "bba94ebfd14d4826bc96ca33d1788959": {
      "model_module": "@jupyter-widgets/controls",
      "model_module_version": "1.5.0",
      "model_name": "ButtonStyleModel",
      "state": {}
     },
     "bbea707507cb49f0a60088a21eb807fb": {
      "model_module": "@jupyter-widgets/controls",
      "model_module_version": "1.5.0",
      "model_name": "HBoxModel",
      "state": {
       "children": [
        "IPY_MODEL_c2eaf38df41643928d2432e9f4210943",
        "IPY_MODEL_4f3d758a27ea4113a5317ae0c0e590c7"
       ],
       "layout": "IPY_MODEL_80142d3caba144008b422d9868927fcf"
      }
     },
     "bdea9dffe0094483881f63358ef1b99e": {
      "model_module": "@jupyter-widgets/controls",
      "model_module_version": "1.5.0",
      "model_name": "HBoxModel",
      "state": {
       "children": [
        "IPY_MODEL_e50b24b0d1e44ab7892d363aa5aaf434",
        "IPY_MODEL_8e10c43ea30640afbc896b9251500beb"
       ],
       "layout": "IPY_MODEL_0778223f564f4086b8460e0dfa95d9da"
      }
     },
     "bdf584b3a02341cfa56ca9913c1e9e9d": {
      "model_module": "@jupyter-widgets/controls",
      "model_module_version": "1.5.0",
      "model_name": "ButtonStyleModel",
      "state": {}
     },
     "beaebabb2fcf4663b7cc70005c4ed3d6": {
      "model_module": "@jupyter-widgets/controls",
      "model_module_version": "1.5.0",
      "model_name": "DescriptionStyleModel",
      "state": {
       "description_width": ""
      }
     },
     "c1cd8566923d40a9ab3d1b6572bac07c": {
      "model_module": "@jupyter-widgets/controls",
      "model_module_version": "1.5.0",
      "model_name": "IntProgressModel",
      "state": {
       "bar_style": "success",
       "description": "You",
       "layout": "IPY_MODEL_a1d1a2345d5844598b954aa589ede31f",
       "max": 50,
       "style": "IPY_MODEL_74e59c6dbd8c401290666e2ffb1a45e6"
      }
     },
     "c2eaf38df41643928d2432e9f4210943": {
      "model_module": "@jupyter-widgets/controls",
      "model_module_version": "1.5.0",
      "model_name": "VBoxModel",
      "state": {
       "children": [
        "IPY_MODEL_e6ee124404bb47c182f69429de133fd9",
        "IPY_MODEL_d19593d4741b4b4d90f7d2e1a475f20f"
       ],
       "layout": "IPY_MODEL_73f89de049b04612a28912e2b27d4e7b"
      }
     },
     "c4a9d43050ba41a8a4e1ca5d4251bbfb": {
      "model_module": "@jupyter-widgets/controls",
      "model_module_version": "1.5.0",
      "model_name": "HTMLModel",
      "state": {
       "layout": "IPY_MODEL_e4dbc3de67d049f3a6407ec14450680a",
       "style": "IPY_MODEL_b42ee81b7e4b44ca8003409fc0a28aeb",
       "value": "<h1 style='color:green'> You Win!</h1>"
      }
     },
     "c528024861464dc8b31924fb43ff8ee0": {
      "model_module": "@jupyter-widgets/controls",
      "model_module_version": "1.5.0",
      "model_name": "VBoxModel",
      "state": {
       "children": [
        "IPY_MODEL_4c4988e1f8064494b806f659621624c3",
        "IPY_MODEL_b6c2446bd7a442de91b1411388522ac1"
       ],
       "layout": "IPY_MODEL_9c533a81c3754771b51be4ec055df61c"
      }
     },
     "c7632cb6740d47de95ddf6b174e319f6": {
      "model_module": "@jupyter-widgets/base",
      "model_module_version": "1.2.0",
      "model_name": "LayoutModel",
      "state": {}
     },
     "c97bc17729d54be5832fa09988743c02": {
      "model_module": "@jupyter-widgets/controls",
      "model_module_version": "1.5.0",
      "model_name": "HBoxModel",
      "state": {
       "children": [
        "IPY_MODEL_524c970a6dbe43d4b79746c74524b3d3",
        "IPY_MODEL_7c2e590c3387429da079f5292cd2e92f"
       ],
       "layout": "IPY_MODEL_7fde1b87ab1141bca4d946ae69076b4c"
      }
     },
     "cafbabdf7cd64e75842ed03e04fcdbe7": {
      "model_module": "@jupyter-widgets/base",
      "model_module_version": "1.2.0",
      "model_name": "LayoutModel",
      "state": {}
     },
     "cb100733143a4d289d2116d2d036bee3": {
      "model_module": "@jupyter-widgets/controls",
      "model_module_version": "1.5.0",
      "model_name": "VBoxModel",
      "state": {
       "children": [
        "IPY_MODEL_d6950ab13eb142238a56d59c94b6abb7",
        "IPY_MODEL_8e2356754592466aa9ae7a6fd694aa4c"
       ],
       "layout": "IPY_MODEL_a27976afbe284a9d80c08ef2ccf72132"
      }
     },
     "ce37bcf182ca40988bc007d8649a6e03": {
      "model_module": "@jupyter-widgets/controls",
      "model_module_version": "1.5.0",
      "model_name": "HBoxModel",
      "state": {
       "children": [
        "IPY_MODEL_64c35ea6ba884a96b2479816ce73b70f",
        "IPY_MODEL_4caa31d227be4095b903365bd82549d6"
       ],
       "layout": "IPY_MODEL_ac4906ed99c545d3a1f66fe447621923"
      }
     },
     "cec2a3c845134d07a0c15bd11b1be599": {
      "model_module": "@jupyter-widgets/base",
      "model_module_version": "1.2.0",
      "model_name": "LayoutModel",
      "state": {}
     },
     "cf3df3f7e7254adc8d3b2614e71cd36c": {
      "model_module": "@jupyter-widgets/base",
      "model_module_version": "1.2.0",
      "model_name": "LayoutModel",
      "state": {}
     },
     "d19593d4741b4b4d90f7d2e1a475f20f": {
      "model_module": "@jupyter-widgets/controls",
      "model_module_version": "1.5.0",
      "model_name": "IntProgressModel",
      "state": {
       "bar_style": "danger",
       "description": "bot",
       "layout": "IPY_MODEL_804d285b8a1f438c9277b921b1447d39",
       "max": 50,
       "style": "IPY_MODEL_dd98ac86a88c4ccda1e8819d58c24ec6"
      }
     },
     "d41d892cc5ec4530b7e291bb9877b414": {
      "model_module": "@jupyter-widgets/controls",
      "model_module_version": "1.5.0",
      "model_name": "ButtonStyleModel",
      "state": {}
     },
     "d54989595f374fa7a4cafd0f911dc1f9": {
      "model_module": "@jupyter-widgets/base",
      "model_module_version": "1.2.0",
      "model_name": "LayoutModel",
      "state": {}
     },
     "d5a7841f727f4215ba6b11a4644aff62": {
      "model_module": "@jupyter-widgets/controls",
      "model_module_version": "1.5.0",
      "model_name": "HTMLModel",
      "state": {
       "layout": "IPY_MODEL_f562c5eb3ccd4a2fa94021270b39fb67",
       "style": "IPY_MODEL_a7ee9444f7f7469582fba59dad709559",
       "value": "<h1 style='color:green'> You Win!</h1>"
      }
     },
     "d6950ab13eb142238a56d59c94b6abb7": {
      "model_module": "@jupyter-widgets/controls",
      "model_module_version": "1.5.0",
      "model_name": "HBoxModel",
      "state": {
       "children": [
        "IPY_MODEL_35f9285616a04c7ab1246eafeb4e672b",
        "IPY_MODEL_c4a9d43050ba41a8a4e1ca5d4251bbfb"
       ],
       "layout": "IPY_MODEL_5050bb46f43c4d44ae1354ce34102847"
      }
     },
     "d6c3533f941040a29f7e0b6b40ef2d6e": {
      "model_module": "@jupyter-widgets/base",
      "model_module_version": "1.2.0",
      "model_name": "LayoutModel",
      "state": {}
     },
     "d71fca767d9c45338c74b320c733ba6b": {
      "model_module": "@jupyter-widgets/controls",
      "model_module_version": "1.5.0",
      "model_name": "VBoxModel",
      "state": {
       "children": [
        "IPY_MODEL_e0de3dd28e2c4049bb8c7eecbee1f07f",
        "IPY_MODEL_6ab79dad89f54b5f8478b9ef129fd766"
       ],
       "layout": "IPY_MODEL_e1a375f9d3974628921a7ddd85304f4b"
      }
     },
     "d73400da8fff4b99b25e6b2ed427feff": {
      "model_module": "@jupyter-widgets/controls",
      "model_module_version": "1.5.0",
      "model_name": "ButtonModel",
      "state": {
       "description": "1",
       "layout": "IPY_MODEL_3583a3075d6d4e7b84a3078cfeae3e99",
       "style": "IPY_MODEL_908ef44253074514b79f9143c8e7a34f"
      }
     },
     "d8028f6593934c33a4f00f1728faab65": {
      "model_module": "@jupyter-widgets/controls",
      "model_module_version": "1.5.0",
      "model_name": "IntProgressModel",
      "state": {
       "bar_style": "danger",
       "description": "bot",
       "layout": "IPY_MODEL_4ace0cf849204f7f8f531574939c66f1",
       "max": 50,
       "style": "IPY_MODEL_91fe353603e04859b73a19c96e9bc628"
      }
     },
     "d81ca066b908438b8fd027751b688251": {
      "model_module": "@jupyter-widgets/base",
      "model_module_version": "1.2.0",
      "model_name": "LayoutModel",
      "state": {}
     },
     "dbb35e873913458493e7e22dc3ede81d": {
      "model_module": "@jupyter-widgets/base",
      "model_module_version": "1.2.0",
      "model_name": "LayoutModel",
      "state": {}
     },
     "dd0499f4b11548d6b4a4cee9c374a148": {
      "model_module": "@jupyter-widgets/controls",
      "model_module_version": "1.5.0",
      "model_name": "ButtonModel",
      "state": {
       "description": "0",
       "layout": "IPY_MODEL_b33e865369ac420ea54d304860a47ef1",
       "style": "IPY_MODEL_5b42dbc0097d40dc81d32b8b381f79e2"
      }
     },
     "dd98ac86a88c4ccda1e8819d58c24ec6": {
      "model_module": "@jupyter-widgets/controls",
      "model_module_version": "1.5.0",
      "model_name": "ProgressStyleModel",
      "state": {
       "description_width": ""
      }
     },
     "dddf40fbe3314e65ad61ac2244e2a793": {
      "model_module": "@jupyter-widgets/controls",
      "model_module_version": "1.5.0",
      "model_name": "IntProgressModel",
      "state": {
       "bar_style": "success",
       "description": "You",
       "layout": "IPY_MODEL_6f0b7244dd384a2d9170d8636c0e11b6",
       "max": 50,
       "style": "IPY_MODEL_004fa3a0b7b846afbc1a9364650933e5"
      }
     },
     "de41678bac5e4b8c8425584cb15b0d6f": {
      "model_module": "@jupyter-widgets/base",
      "model_module_version": "1.2.0",
      "model_name": "LayoutModel",
      "state": {}
     },
     "e0de3dd28e2c4049bb8c7eecbee1f07f": {
      "model_module": "@jupyter-widgets/controls",
      "model_module_version": "1.5.0",
      "model_name": "IntProgressModel",
      "state": {
       "bar_style": "success",
       "description": "You",
       "layout": "IPY_MODEL_3e0ed6a9614447ac92401cc1ff7b1ef6",
       "max": 50,
       "style": "IPY_MODEL_b61c234c904c40178ff2132a01783a6a"
      }
     },
     "e1a375f9d3974628921a7ddd85304f4b": {
      "model_module": "@jupyter-widgets/base",
      "model_module_version": "1.2.0",
      "model_name": "LayoutModel",
      "state": {}
     },
     "e2810367dc474ce5b7d0c124d1057283": {
      "model_module": "@jupyter-widgets/controls",
      "model_module_version": "1.5.0",
      "model_name": "ProgressStyleModel",
      "state": {
       "description_width": ""
      }
     },
     "e2951444b6754e949746f1a5f18840be": {
      "model_module": "@jupyter-widgets/controls",
      "model_module_version": "1.5.0",
      "model_name": "ProgressStyleModel",
      "state": {
       "description_width": ""
      }
     },
     "e3363c1793fd4aa68d6393304d790dc7": {
      "model_module": "@jupyter-widgets/base",
      "model_module_version": "1.2.0",
      "model_name": "LayoutModel",
      "state": {}
     },
     "e4dbc3de67d049f3a6407ec14450680a": {
      "model_module": "@jupyter-widgets/base",
      "model_module_version": "1.2.0",
      "model_name": "LayoutModel",
      "state": {}
     },
     "e50b24b0d1e44ab7892d363aa5aaf434": {
      "model_module": "@jupyter-widgets/controls",
      "model_module_version": "1.5.0",
      "model_name": "VBoxModel",
      "state": {
       "children": [
        "IPY_MODEL_92e0e71b10c8472b9b5477a625ab9011",
        "IPY_MODEL_1b1b7ae4156b4e70b8087e6e8e4c2d3d"
       ],
       "layout": "IPY_MODEL_59028c5763bf4a46a80a138a48f9a852"
      }
     },
     "e5824f5bfba3460b814de2aa861ff49d": {
      "model_module": "@jupyter-widgets/controls",
      "model_module_version": "1.5.0",
      "model_name": "ProgressStyleModel",
      "state": {
       "description_width": ""
      }
     },
     "e612458eebb94881912c3c8e8688d43e": {
      "model_module": "@jupyter-widgets/base",
      "model_module_version": "1.2.0",
      "model_name": "LayoutModel",
      "state": {}
     },
     "e6480669fd82433688f89f80a4817266": {
      "model_module": "@jupyter-widgets/controls",
      "model_module_version": "1.5.0",
      "model_name": "HTMLModel",
      "state": {
       "layout": "IPY_MODEL_8e141e45d7884268a8a33e34eb501bb7",
       "style": "IPY_MODEL_45799de43e984f98b87ea4e99cde7512",
       "value": "<h1 style='color:green'> You Win!</h1>"
      }
     },
     "e6ee124404bb47c182f69429de133fd9": {
      "model_module": "@jupyter-widgets/controls",
      "model_module_version": "1.5.0",
      "model_name": "IntProgressModel",
      "state": {
       "bar_style": "success",
       "description": "You",
       "layout": "IPY_MODEL_48248dbe71af4fa588ca4e3a017e62ff",
       "max": 50,
       "style": "IPY_MODEL_4fd5031e48f34d69a463ef0867b5b370"
      }
     },
     "e80117a415aa458a9f348ebb05a70210": {
      "model_module": "@jupyter-widgets/base",
      "model_module_version": "1.2.0",
      "model_name": "LayoutModel",
      "state": {}
     },
     "e98bb7ccf23b45c1894c18b1f75905e3": {
      "model_module": "@jupyter-widgets/base",
      "model_module_version": "1.2.0",
      "model_name": "LayoutModel",
      "state": {}
     },
     "eaa3a57bb5e647b3a58fb9075c847e59": {
      "model_module": "@jupyter-widgets/base",
      "model_module_version": "1.2.0",
      "model_name": "LayoutModel",
      "state": {}
     },
     "eb1978c74cea411ab4e952ac569cd7bf": {
      "model_module": "@jupyter-widgets/base",
      "model_module_version": "1.2.0",
      "model_name": "LayoutModel",
      "state": {}
     },
     "eb6c6e61dd6b4ffeabad7d10fab36ec2": {
      "model_module": "@jupyter-widgets/controls",
      "model_module_version": "1.5.0",
      "model_name": "DescriptionStyleModel",
      "state": {
       "description_width": ""
      }
     },
     "ec36692b05564f51bd1cb010b751ee30": {
      "model_module": "@jupyter-widgets/controls",
      "model_module_version": "1.5.0",
      "model_name": "IntProgressModel",
      "state": {
       "bar_style": "danger",
       "description": "bot",
       "layout": "IPY_MODEL_57c6a2cc9f32492eb2c6d87ef101c601",
       "max": 50,
       "style": "IPY_MODEL_759a9c95db27488383761bec29145705"
      }
     },
     "ed70496e3e2b427880cec00036206414": {
      "model_module": "@jupyter-widgets/base",
      "model_module_version": "1.2.0",
      "model_name": "LayoutModel",
      "state": {}
     },
     "efe48f571ec347baafb6b5cf650ed8a0": {
      "model_module": "@jupyter-widgets/controls",
      "model_module_version": "1.5.0",
      "model_name": "IntProgressModel",
      "state": {
       "bar_style": "success",
       "description": "You",
       "layout": "IPY_MODEL_a3bc994341984cc2b13561d73323b333",
       "max": 50,
       "style": "IPY_MODEL_e2810367dc474ce5b7d0c124d1057283"
      }
     },
     "f26caa9625ff4a2990c081af98e0657b": {
      "model_module": "@jupyter-widgets/base",
      "model_module_version": "1.2.0",
      "model_name": "LayoutModel",
      "state": {}
     },
     "f562c5eb3ccd4a2fa94021270b39fb67": {
      "model_module": "@jupyter-widgets/base",
      "model_module_version": "1.2.0",
      "model_name": "LayoutModel",
      "state": {
       "visibility": "hidden"
      }
     },
     "f5a65d1b19054d4c8200f86d745f6a6b": {
      "model_module": "@jupyter-widgets/controls",
      "model_module_version": "1.5.0",
      "model_name": "ProgressStyleModel",
      "state": {
       "description_width": ""
      }
     },
     "f6f3cdd61de54ea1b5293940a7bb62de": {
      "model_module": "@jupyter-widgets/controls",
      "model_module_version": "1.5.0",
      "model_name": "VBoxModel",
      "state": {
       "children": [
        "IPY_MODEL_a1fd924183674702966de47318902c75",
        "IPY_MODEL_fdd71b51fb0b4a7ea5be4bac5f0d3d8d"
       ],
       "layout": "IPY_MODEL_e80117a415aa458a9f348ebb05a70210"
      }
     },
     "f75a6d862e8549de80bd9d9f558b6f1e": {
      "model_module": "@jupyter-widgets/controls",
      "model_module_version": "1.5.0",
      "model_name": "VBoxModel",
      "state": {
       "children": [
        "IPY_MODEL_6550573acc5c48129453bf75266490f3",
        "IPY_MODEL_3e559a37fe064f1f822b5e17d9a98994"
       ],
       "layout": "IPY_MODEL_08e882153d674acca8a8a23756fff788"
      }
     },
     "f81a94ae4e514851941b4022e7826f99": {
      "model_module": "@jupyter-widgets/controls",
      "model_module_version": "1.5.0",
      "model_name": "ProgressStyleModel",
      "state": {
       "description_width": ""
      }
     },
     "f9c8c08cd7074f098373e32f7f3b25dd": {
      "model_module": "@jupyter-widgets/base",
      "model_module_version": "1.2.0",
      "model_name": "LayoutModel",
      "state": {}
     },
     "fdd71b51fb0b4a7ea5be4bac5f0d3d8d": {
      "model_module": "@jupyter-widgets/controls",
      "model_module_version": "1.5.0",
      "model_name": "HBoxModel",
      "state": {
       "children": [
        "IPY_MODEL_20f3ca804e1f42e49fddc8eb9560702c",
        "IPY_MODEL_b243df1c97e04145bdecd0ff678e9a9c"
       ],
       "layout": "IPY_MODEL_b699daf2e1574fa1ba35891aab92b4ad"
      }
     },
     "ff013430177c4bdca886ab6ce145e10d": {
      "model_module": "@jupyter-widgets/controls",
      "model_module_version": "1.5.0",
      "model_name": "ProgressStyleModel",
      "state": {
       "description_width": ""
      }
     }
    },
    "version_major": 2,
    "version_minor": 0
   }
  }
 },
 "nbformat": 4,
 "nbformat_minor": 4
}
